{
 "cells": [
  {
   "cell_type": "code",
   "execution_count": 1,
   "id": "05a3ca10",
   "metadata": {},
   "outputs": [],
   "source": [
    "import cv2"
   ]
  },
  {
   "cell_type": "code",
   "execution_count": 42,
   "id": "ac81fb74",
   "metadata": {},
   "outputs": [],
   "source": [
    "#读取图片部分代码来自网络\n",
    "def read_picture(path,n_C):\n",
    "    import os\n",
    "    from PIL import Image\n",
    "    import numpy as np\n",
    "    import matplotlib.pyplot as plt\n",
    "    datas=[]\n",
    "    x_dirs=os.listdir(path)\n",
    "    for x_file in x_dirs:\n",
    "        fpath=os.path.join(path,x_file)\n",
    "        if n_C == 1 :\n",
    "            _x=Image.open(fpath).convert(\"L\")\n",
    "            #plt.imshow(_x,\"gray\")   #显示图像(只显示最后一张)\n",
    "        elif n_C == 3:\n",
    "            _x=Image.open(fpath)\n",
    "            #plt.imshow(_x)         #显示图像(只显示最后一张)\n",
    "        else:\n",
    "            print(\"错误：图像维数错误\")\n",
    "        n_W=_x.size[1]\n",
    "        n_H=_x.size[0]\n",
    "        #若要对图像进行放大缩小，激活（去掉注释）以下函数\n",
    "        '''\n",
    "        rat=0.8          #放大/缩小倍数\n",
    "        n_W=int(rat*n_W)\n",
    "        n_H=int(rat*n_H)\n",
    "        _x=_x.resize((n_W,n_H))  #直接给n_W,n_H赋值可将图像变为任意大小\n",
    "        '''\n",
    "        datas.append(np.array(_x))\n",
    "        _x.close()  \n",
    "    datas=np.array(datas)\n",
    "    \n",
    "    m=datas.shape[0]\n",
    "    datas=datas.reshape((m,n_H,n_W,n_C))\n",
    "    print(datas.shape)\n",
    "    \n",
    "    return datas\n"
   ]
  },
  {
   "cell_type": "code",
   "execution_count": 3,
   "id": "bfcd3476",
   "metadata": {},
   "outputs": [],
   "source": [
    "from keras.preprocessing.image import ImageDataGenerator\n",
    "import os\n",
    "\n",
    "\n",
    "base_dir = 'D:\\\\food_dataset\\\\food_dataset'\n",
    "train_dir = os.path.join(base_dir, 'train') \n",
    "validation_dir = os.path.join(base_dir, 'validation') \n",
    "test_dir = os.path.join(base_dir, 'test')"
   ]
  },
  {
   "cell_type": "code",
   "execution_count": 54,
   "id": "bd3ca142",
   "metadata": {},
   "outputs": [],
   "source": [
    "def getDataset(path):\n",
    "    dset = np.empty([0,320,200,3],dtype = 'float32')\n",
    "    dset = np.asarray(dset)\n",
    "    foodlist = ['donuts','egg_tart','hamburger','ice_cream','pizza','steak']\n",
    "    for i in range(6):\n",
    "        tmpdir = os.path.join(path,foodlist[i])\n",
    "        dset = np.concatenate((dset,read_picture(tmpdir,3)),axis = 0)\n",
    "    \n",
    "    return dset"
   ]
  },
  {
   "cell_type": "code",
   "execution_count": 55,
   "id": "e816f8be",
   "metadata": {},
   "outputs": [
    {
     "name": "stdout",
     "output_type": "stream",
     "text": [
      "(1000, 320, 200, 3)\n",
      "(1000, 320, 200, 3)\n",
      "(1000, 320, 200, 3)\n",
      "(1000, 320, 200, 3)\n",
      "(1000, 320, 200, 3)\n",
      "(1000, 320, 200, 3)\n"
     ]
    }
   ],
   "source": [
    "import numpy as np\n",
    "X_train = getDataset(train_dir)"
   ]
  },
  {
   "cell_type": "code",
   "execution_count": 56,
   "id": "7cf97914",
   "metadata": {},
   "outputs": [],
   "source": [
    "X_train = np.asarray(X_train)"
   ]
  },
  {
   "cell_type": "code",
   "execution_count": 57,
   "id": "d5ea81d4",
   "metadata": {},
   "outputs": [
    {
     "data": {
      "text/plain": [
       "(6000, 320, 200, 3)"
      ]
     },
     "execution_count": 57,
     "metadata": {},
     "output_type": "execute_result"
    }
   ],
   "source": [
    "X_train.shape"
   ]
  },
  {
   "cell_type": "code",
   "execution_count": 58,
   "id": "16e5f1d4",
   "metadata": {},
   "outputs": [
    {
     "name": "stdout",
     "output_type": "stream",
     "text": [
      "(200, 320, 200, 3)\n",
      "(200, 320, 200, 3)\n",
      "(200, 320, 200, 3)\n",
      "(200, 320, 200, 3)\n",
      "(200, 320, 200, 3)\n",
      "(200, 320, 200, 3)\n"
     ]
    }
   ],
   "source": [
    "X_validation = getDataset(validation_dir)"
   ]
  },
  {
   "cell_type": "code",
   "execution_count": 59,
   "id": "5c0323eb",
   "metadata": {},
   "outputs": [
    {
     "data": {
      "text/plain": [
       "(1200, 320, 200, 3)"
      ]
     },
     "execution_count": 59,
     "metadata": {},
     "output_type": "execute_result"
    }
   ],
   "source": [
    "X_validation.shape"
   ]
  },
  {
   "cell_type": "code",
   "execution_count": 60,
   "id": "11889572",
   "metadata": {},
   "outputs": [
    {
     "name": "stdout",
     "output_type": "stream",
     "text": [
      "(100, 320, 200, 3)\n",
      "(100, 320, 200, 3)\n",
      "(100, 320, 200, 3)\n",
      "(100, 320, 200, 3)\n",
      "(100, 320, 200, 3)\n",
      "(100, 320, 200, 3)\n"
     ]
    }
   ],
   "source": [
    "X_test = getDataset(test_dir)"
   ]
  },
  {
   "cell_type": "code",
   "execution_count": 61,
   "id": "7ef9df46",
   "metadata": {},
   "outputs": [
    {
     "data": {
      "text/plain": [
       "(600, 320, 200, 3)"
      ]
     },
     "execution_count": 61,
     "metadata": {},
     "output_type": "execute_result"
    }
   ],
   "source": [
    "X_test.shape"
   ]
  },
  {
   "cell_type": "code",
   "execution_count": 62,
   "id": "a1d867f9",
   "metadata": {},
   "outputs": [],
   "source": [
    "train_datagen = ImageDataGenerator(\n",
    "                    rescale = 1./255,\n",
    "                    rotation_range=40,\n",
    "                    width_shift_range=0.2,\n",
    "                    height_shift_range=0.2,\n",
    "                    shear_range=0.2,\n",
    "                    zoom_range=0.2,\n",
    "                    horizontal_flip=True,\n",
    "                    fill_mode='nearest',\n",
    "                    #以下4行做图像标准化\n",
    "                    featurewise_center=True, \n",
    "                    featurewise_std_normalization=True,\n",
    "                    samplewise_center=True, \n",
    "                    samplewise_std_normalization=True\n",
    "                    )"
   ]
  },
  {
   "cell_type": "code",
   "execution_count": 63,
   "id": "12feb56e",
   "metadata": {},
   "outputs": [],
   "source": [
    "train_datagen.fit(X_train)"
   ]
  },
  {
   "cell_type": "code",
   "execution_count": 64,
   "id": "db2d5ad5",
   "metadata": {},
   "outputs": [],
   "source": [
    "val_datagen = ImageDataGenerator(rescale = 1./255,\n",
    "                                #以下4行做图像标准化\n",
    "                                featurewise_center=True, \n",
    "                                featurewise_std_normalization=True,\n",
    "                                samplewise_center=True, \n",
    "                                samplewise_std_normalization=True\n",
    "                                )"
   ]
  },
  {
   "cell_type": "code",
   "execution_count": 65,
   "id": "ff2b2203",
   "metadata": {},
   "outputs": [],
   "source": [
    "val_datagen.fit(X_validation)"
   ]
  },
  {
   "cell_type": "code",
   "execution_count": 66,
   "id": "a9af8338",
   "metadata": {},
   "outputs": [],
   "source": [
    "batchsize = 30"
   ]
  },
  {
   "cell_type": "code",
   "execution_count": 67,
   "id": "9353addb",
   "metadata": {},
   "outputs": [
    {
     "name": "stdout",
     "output_type": "stream",
     "text": [
      "Found 6000 images belonging to 6 classes.\n",
      "Found 1200 images belonging to 6 classes.\n"
     ]
    }
   ],
   "source": [
    "train_generator = train_datagen.flow_from_directory(\n",
    "                    train_dir,\n",
    "                    target_size = (320,200),\n",
    "                    batch_size = batchsize,\n",
    "                    )\n",
    "\n",
    "validation_generator = val_datagen.flow_from_directory(\n",
    "                    validation_dir,\n",
    "                    target_size = (320,200),\n",
    "                    batch_size = batchsize,\n",
    "                    )\n",
    "\n"
   ]
  },
  {
   "cell_type": "code",
   "execution_count": 68,
   "id": "f55fc75f",
   "metadata": {},
   "outputs": [
    {
     "name": "stdout",
     "output_type": "stream",
     "text": [
      "Model: \"vgg16\"\n",
      "_________________________________________________________________\n",
      " Layer (type)                Output Shape              Param #   \n",
      "=================================================================\n",
      " input_1 (InputLayer)        [(None, 320, 200, 3)]     0         \n",
      "                                                                 \n",
      " block1_conv1 (Conv2D)       (None, 320, 200, 64)      1792      \n",
      "                                                                 \n",
      " block1_conv2 (Conv2D)       (None, 320, 200, 64)      36928     \n",
      "                                                                 \n",
      " block1_pool (MaxPooling2D)  (None, 160, 100, 64)      0         \n",
      "                                                                 \n",
      " block2_conv1 (Conv2D)       (None, 160, 100, 128)     73856     \n",
      "                                                                 \n",
      " block2_conv2 (Conv2D)       (None, 160, 100, 128)     147584    \n",
      "                                                                 \n",
      " block2_pool (MaxPooling2D)  (None, 80, 50, 128)       0         \n",
      "                                                                 \n",
      " block3_conv1 (Conv2D)       (None, 80, 50, 256)       295168    \n",
      "                                                                 \n",
      " block3_conv2 (Conv2D)       (None, 80, 50, 256)       590080    \n",
      "                                                                 \n",
      " block3_conv3 (Conv2D)       (None, 80, 50, 256)       590080    \n",
      "                                                                 \n",
      " block3_pool (MaxPooling2D)  (None, 40, 25, 256)       0         \n",
      "                                                                 \n",
      " block4_conv1 (Conv2D)       (None, 40, 25, 512)       1180160   \n",
      "                                                                 \n",
      " block4_conv2 (Conv2D)       (None, 40, 25, 512)       2359808   \n",
      "                                                                 \n",
      " block4_conv3 (Conv2D)       (None, 40, 25, 512)       2359808   \n",
      "                                                                 \n",
      " block4_pool (MaxPooling2D)  (None, 20, 12, 512)       0         \n",
      "                                                                 \n",
      " block5_conv1 (Conv2D)       (None, 20, 12, 512)       2359808   \n",
      "                                                                 \n",
      " block5_conv2 (Conv2D)       (None, 20, 12, 512)       2359808   \n",
      "                                                                 \n",
      " block5_conv3 (Conv2D)       (None, 20, 12, 512)       2359808   \n",
      "                                                                 \n",
      " block5_pool (MaxPooling2D)  (None, 10, 6, 512)        0         \n",
      "                                                                 \n",
      "=================================================================\n",
      "Total params: 14,714,688\n",
      "Trainable params: 14,714,688\n",
      "Non-trainable params: 0\n",
      "_________________________________________________________________\n"
     ]
    }
   ],
   "source": [
    "from keras.applications.vgg16 import VGG16\n",
    "\n",
    "conv_base = VGG16(weights='imagenet',\n",
    "                    include_top=False,\n",
    "                    input_shape=(320, 200, 3))\n",
    "\n",
    "\n",
    "\n",
    "conv_base.summary()"
   ]
  },
  {
   "cell_type": "code",
   "execution_count": 69,
   "id": "4d7bd338",
   "metadata": {},
   "outputs": [],
   "source": [
    "from tensorflow.keras import regularizers"
   ]
  },
  {
   "cell_type": "code",
   "execution_count": 70,
   "id": "5555f0d7",
   "metadata": {},
   "outputs": [],
   "source": [
    "from keras import models\n",
    "from keras import layers\n",
    "from tensorflow import optimizers\n",
    "\n",
    "model = models.Sequential()\n",
    "model.add(conv_base)\n",
    "model.add(layers.Flatten())\n",
    "model.add(layers.Dropout(0.5))\n",
    "model.add(layers.Dense(128, activation='relu',kernel_regularizer=regularizers.l1_l2(l1 = 0.001, l2 = 0.001)))\n",
    "model.add(layers.Dense(64, activation='relu',kernel_regularizer=regularizers.l1_l2(l1 = 0.001, l2 = 0.001)))\n",
    "model.add(layers.Dense(6, activation='softmax'))"
   ]
  },
  {
   "cell_type": "code",
   "execution_count": 71,
   "id": "df12c206",
   "metadata": {},
   "outputs": [
    {
     "name": "stdout",
     "output_type": "stream",
     "text": [
      "Model: \"sequential\"\n",
      "_________________________________________________________________\n",
      " Layer (type)                Output Shape              Param #   \n",
      "=================================================================\n",
      " vgg16 (Functional)          (None, 10, 6, 512)        14714688  \n",
      "                                                                 \n",
      " flatten (Flatten)           (None, 30720)             0         \n",
      "                                                                 \n",
      " dropout (Dropout)           (None, 30720)             0         \n",
      "                                                                 \n",
      " dense (Dense)               (None, 128)               3932288   \n",
      "                                                                 \n",
      " dense_1 (Dense)             (None, 64)                8256      \n",
      "                                                                 \n",
      " dense_2 (Dense)             (None, 6)                 390       \n",
      "                                                                 \n",
      "=================================================================\n",
      "Total params: 18,655,622\n",
      "Trainable params: 18,655,622\n",
      "Non-trainable params: 0\n",
      "_________________________________________________________________\n"
     ]
    }
   ],
   "source": [
    "model.summary()"
   ]
  },
  {
   "cell_type": "code",
   "execution_count": 72,
   "id": "ca0f0c58",
   "metadata": {},
   "outputs": [
    {
     "name": "stdout",
     "output_type": "stream",
     "text": [
      "trainable weights:  32\n",
      "trainable weights:  24\n"
     ]
    }
   ],
   "source": [
    "print('trainable weights: ', len(model.trainable_weights))\n",
    "conv_base.trainable = True\n",
    "\n",
    "\n",
    "f = False \n",
    "for layer in conv_base.layers:\n",
    "    if layer.name == 'block3_conv1':\n",
    "        f = True\n",
    "    if f == True:\n",
    "        layer.trainable = True\n",
    "    else:\n",
    "        layer.trainable = False\n",
    "\n",
    "print('trainable weights: ', len(model.trainable_weights))"
   ]
  },
  {
   "cell_type": "code",
   "execution_count": 73,
   "id": "dc3ae11a",
   "metadata": {},
   "outputs": [],
   "source": [
    "import keras\n",
    "callbacks_list = [\n",
    "    keras.callbacks.ReduceLROnPlateau( # 不再改善时降低学习率\n",
    "        monitor='loss',\n",
    "        factor=0.5,\n",
    "        patience=2,\n",
    "    ),\n",
    "    keras.callbacks.EarlyStopping( # 不再改善时中断训练\n",
    "        monitor='loss',\n",
    "        patience=5,\n",
    "    )\n",
    "]"
   ]
  },
  {
   "cell_type": "code",
   "execution_count": 74,
   "id": "a36e9aac",
   "metadata": {},
   "outputs": [
    {
     "name": "stderr",
     "output_type": "stream",
     "text": [
      "d:\\python3.8\\lib\\site-packages\\keras\\optimizers\\optimizer_v2\\gradient_descent.py:108: UserWarning: The `lr` argument is deprecated, use `learning_rate` instead.\n",
      "  super(SGD, self).__init__(name, **kwargs)\n",
      "C:\\Users\\Nickelth\\AppData\\Local\\Temp\\ipykernel_26572\\3244846159.py:7: UserWarning: `Model.fit_generator` is deprecated and will be removed in a future version. Please use `Model.fit`, which supports generators.\n",
      "  history = model.fit_generator(\n"
     ]
    },
    {
     "name": "stdout",
     "output_type": "stream",
     "text": [
      "Epoch 1/300\n",
      "140/140 [==============================] - 95s 577ms/step - loss: 27.5694 - acc: 0.1743 - val_loss: 24.8940 - val_acc: 0.1775 - lr: 0.0100\n",
      "Epoch 2/300\n",
      "140/140 [==============================] - 87s 617ms/step - loss: 22.4677 - acc: 0.1860 - val_loss: 20.0976 - val_acc: 0.1858 - lr: 0.0100\n",
      "Epoch 3/300\n",
      "140/140 [==============================] - 89s 634ms/step - loss: 17.9621 - acc: 0.2317 - val_loss: 15.7342 - val_acc: 0.3383 - lr: 0.0100\n",
      "Epoch 4/300\n",
      "140/140 [==============================] - 92s 658ms/step - loss: 13.8123 - acc: 0.4729 - val_loss: 11.6043 - val_acc: 0.6742 - lr: 0.0100\n",
      "Epoch 5/300\n",
      "140/140 [==============================] - 91s 649ms/step - loss: 10.3880 - acc: 0.5779 - val_loss: 8.4484 - val_acc: 0.7750 - lr: 0.0100\n",
      "Epoch 6/300\n",
      "140/140 [==============================] - 92s 658ms/step - loss: 7.3268 - acc: 0.7419 - val_loss: 5.8511 - val_acc: 0.8433 - lr: 0.0100\n",
      "Epoch 7/300\n",
      "140/140 [==============================] - 89s 631ms/step - loss: 5.0633 - acc: 0.7848 - val_loss: 3.9674 - val_acc: 0.8533 - lr: 0.0100\n",
      "Epoch 8/300\n",
      "140/140 [==============================] - 88s 625ms/step - loss: 3.4177 - acc: 0.8202 - val_loss: 2.7232 - val_acc: 0.8608 - lr: 0.0100\n",
      "Epoch 9/300\n",
      "140/140 [==============================] - 86s 613ms/step - loss: 2.4159 - acc: 0.8226 - val_loss: 2.0309 - val_acc: 0.8417 - lr: 0.0100\n",
      "Epoch 10/300\n",
      "140/140 [==============================] - 87s 621ms/step - loss: 1.9210 - acc: 0.8281 - val_loss: 1.8322 - val_acc: 0.8075 - lr: 0.0100\n",
      "Epoch 11/300\n",
      "140/140 [==============================] - 84s 601ms/step - loss: 1.6963 - acc: 0.8495 - val_loss: 1.6145 - val_acc: 0.8758 - lr: 0.0100\n",
      "Epoch 12/300\n",
      "140/140 [==============================] - 89s 636ms/step - loss: 2.0790 - acc: 0.6160 - val_loss: 1.4921 - val_acc: 0.8683 - lr: 0.0100\n",
      "Epoch 13/300\n",
      "140/140 [==============================] - 88s 625ms/step - loss: 1.5180 - acc: 0.8555 - val_loss: 1.3557 - val_acc: 0.8992 - lr: 0.0100\n",
      "Epoch 14/300\n",
      "140/140 [==============================] - 85s 606ms/step - loss: 1.5850 - acc: 0.8307 - val_loss: 1.3132 - val_acc: 0.9058 - lr: 0.0100\n",
      "Epoch 15/300\n",
      "140/140 [==============================] - 86s 611ms/step - loss: 1.3744 - acc: 0.8760 - val_loss: 1.8108 - val_acc: 0.7158 - lr: 0.0100\n",
      "Epoch 16/300\n",
      "140/140 [==============================] - 87s 621ms/step - loss: 1.3072 - acc: 0.8833 - val_loss: 1.2765 - val_acc: 0.8875 - lr: 0.0100\n",
      "Epoch 17/300\n",
      "140/140 [==============================] - 86s 612ms/step - loss: 1.3147 - acc: 0.8807 - val_loss: 1.2644 - val_acc: 0.8883 - lr: 0.0100\n",
      "Epoch 18/300\n",
      "140/140 [==============================] - 86s 615ms/step - loss: 1.2123 - acc: 0.8974 - val_loss: 1.1802 - val_acc: 0.9025 - lr: 0.0100\n",
      "Epoch 19/300\n",
      "140/140 [==============================] - 86s 614ms/step - loss: 1.2211 - acc: 0.8888 - val_loss: 1.2544 - val_acc: 0.8758 - lr: 0.0100\n",
      "Epoch 20/300\n",
      "140/140 [==============================] - 86s 610ms/step - loss: 1.3239 - acc: 0.8498 - val_loss: 1.4202 - val_acc: 0.8158 - lr: 0.0100\n",
      "Epoch 21/300\n",
      "140/140 [==============================] - 87s 623ms/step - loss: 1.0660 - acc: 0.9117 - val_loss: 1.0308 - val_acc: 0.9200 - lr: 0.0050\n",
      "Epoch 22/300\n",
      "140/140 [==============================] - 88s 625ms/step - loss: 0.9881 - acc: 0.9250 - val_loss: 1.0632 - val_acc: 0.9100 - lr: 0.0050\n",
      "Epoch 23/300\n",
      "140/140 [==============================] - 87s 622ms/step - loss: 0.9455 - acc: 0.9319 - val_loss: 0.9850 - val_acc: 0.9158 - lr: 0.0050\n",
      "Epoch 24/300\n",
      "140/140 [==============================] - 88s 628ms/step - loss: 0.9135 - acc: 0.9324 - val_loss: 0.9522 - val_acc: 0.9242 - lr: 0.0050\n",
      "Epoch 25/300\n",
      "140/140 [==============================] - 89s 631ms/step - loss: 0.8870 - acc: 0.9345 - val_loss: 0.9769 - val_acc: 0.9117 - lr: 0.0050\n",
      "Epoch 26/300\n",
      "140/140 [==============================] - 89s 633ms/step - loss: 0.8760 - acc: 0.9360 - val_loss: 0.9225 - val_acc: 0.9242 - lr: 0.0050\n",
      "Epoch 27/300\n",
      "140/140 [==============================] - 90s 639ms/step - loss: 0.8544 - acc: 0.9402 - val_loss: 0.8983 - val_acc: 0.9283 - lr: 0.0050\n",
      "Epoch 28/300\n",
      "140/140 [==============================] - 87s 623ms/step - loss: 0.8328 - acc: 0.9440 - val_loss: 0.9050 - val_acc: 0.9208 - lr: 0.0050\n",
      "Epoch 29/300\n",
      "140/140 [==============================] - 89s 633ms/step - loss: 0.8277 - acc: 0.9417 - val_loss: 0.8718 - val_acc: 0.9217 - lr: 0.0050\n",
      "Epoch 30/300\n",
      "140/140 [==============================] - 87s 620ms/step - loss: 0.8000 - acc: 0.9433 - val_loss: 0.9090 - val_acc: 0.9208 - lr: 0.0050\n",
      "Epoch 31/300\n",
      "140/140 [==============================] - 89s 634ms/step - loss: 0.7853 - acc: 0.9500 - val_loss: 0.8500 - val_acc: 0.9367 - lr: 0.0050\n",
      "Epoch 32/300\n",
      "140/140 [==============================] - 90s 639ms/step - loss: 0.7874 - acc: 0.9460 - val_loss: 0.8836 - val_acc: 0.9242 - lr: 0.0050\n",
      "Epoch 33/300\n",
      "140/140 [==============================] - 87s 616ms/step - loss: 0.7524 - acc: 0.9517 - val_loss: 0.8293 - val_acc: 0.9325 - lr: 0.0050\n",
      "Epoch 34/300\n",
      "140/140 [==============================] - 89s 634ms/step - loss: 0.7431 - acc: 0.9517 - val_loss: 0.8245 - val_acc: 0.9300 - lr: 0.0050\n",
      "Epoch 35/300\n",
      "140/140 [==============================] - 86s 609ms/step - loss: 0.7437 - acc: 0.9455 - val_loss: 0.8420 - val_acc: 0.9225 - lr: 0.0050\n",
      "Epoch 36/300\n",
      "140/140 [==============================] - 88s 626ms/step - loss: 0.7098 - acc: 0.9610 - val_loss: 0.9210 - val_acc: 0.9208 - lr: 0.0050\n",
      "Epoch 37/300\n",
      "140/140 [==============================] - 88s 629ms/step - loss: 0.7174 - acc: 0.9531 - val_loss: 0.8839 - val_acc: 0.9100 - lr: 0.0050\n",
      "Epoch 38/300\n",
      "140/140 [==============================] - 87s 617ms/step - loss: 0.7281 - acc: 0.9488 - val_loss: 0.7995 - val_acc: 0.9333 - lr: 0.0050\n",
      "Epoch 39/300\n",
      "140/140 [==============================] - 86s 612ms/step - loss: 0.6483 - acc: 0.9664 - val_loss: 0.8324 - val_acc: 0.9225 - lr: 0.0025\n",
      "Epoch 40/300\n",
      "140/140 [==============================] - 87s 620ms/step - loss: 0.6197 - acc: 0.9698 - val_loss: 0.8323 - val_acc: 0.9283 - lr: 0.0025\n",
      "Epoch 41/300\n",
      "140/140 [==============================] - 87s 620ms/step - loss: 0.6165 - acc: 0.9698 - val_loss: 0.8017 - val_acc: 0.9342 - lr: 0.0025\n",
      "Epoch 42/300\n",
      "140/140 [==============================] - 88s 623ms/step - loss: 0.5937 - acc: 0.9738 - val_loss: 0.7760 - val_acc: 0.9333 - lr: 0.0025\n",
      "Epoch 43/300\n",
      "140/140 [==============================] - 85s 607ms/step - loss: 0.5981 - acc: 0.9681 - val_loss: 0.7683 - val_acc: 0.9392 - lr: 0.0025\n",
      "Epoch 44/300\n",
      "140/140 [==============================] - 88s 624ms/step - loss: 0.5998 - acc: 0.9681 - val_loss: 0.7779 - val_acc: 0.9308 - lr: 0.0025\n",
      "Epoch 45/300\n",
      "140/140 [==============================] - 86s 613ms/step - loss: 0.5686 - acc: 0.9771 - val_loss: 0.7486 - val_acc: 0.9317 - lr: 0.0012\n",
      "Epoch 46/300\n",
      "140/140 [==============================] - 88s 626ms/step - loss: 0.5509 - acc: 0.9767 - val_loss: 0.7629 - val_acc: 0.9317 - lr: 0.0012\n",
      "Epoch 47/300\n",
      "140/140 [==============================] - 86s 613ms/step - loss: 0.5506 - acc: 0.9771 - val_loss: 0.7860 - val_acc: 0.9283 - lr: 0.0012\n",
      "Epoch 48/300\n",
      "140/140 [==============================] - 86s 613ms/step - loss: 0.5467 - acc: 0.9793 - val_loss: 0.7292 - val_acc: 0.9350 - lr: 0.0012\n",
      "Epoch 49/300\n",
      "140/140 [==============================] - 90s 637ms/step - loss: 0.5352 - acc: 0.9781 - val_loss: 0.7597 - val_acc: 0.9342 - lr: 0.0012\n",
      "Epoch 50/300\n",
      "140/140 [==============================] - 86s 615ms/step - loss: 0.5392 - acc: 0.9774 - val_loss: 0.7562 - val_acc: 0.9300 - lr: 0.0012\n",
      "Epoch 51/300\n",
      "140/140 [==============================] - 86s 612ms/step - loss: 0.5310 - acc: 0.9800 - val_loss: 0.7645 - val_acc: 0.9308 - lr: 0.0012\n",
      "Epoch 52/300\n",
      "140/140 [==============================] - 86s 610ms/step - loss: 0.5174 - acc: 0.9840 - val_loss: 0.7279 - val_acc: 0.9358 - lr: 0.0012\n",
      "Epoch 53/300\n",
      "140/140 [==============================] - 88s 629ms/step - loss: 0.5271 - acc: 0.9776 - val_loss: 0.7573 - val_acc: 0.9308 - lr: 0.0012\n",
      "Epoch 54/300\n",
      "140/140 [==============================] - 88s 629ms/step - loss: 0.5333 - acc: 0.9781 - val_loss: 0.7285 - val_acc: 0.9367 - lr: 0.0012\n",
      "Epoch 55/300\n",
      "140/140 [==============================] - 92s 657ms/step - loss: 0.5136 - acc: 0.9810 - val_loss: 0.7273 - val_acc: 0.9350 - lr: 6.2500e-04\n",
      "Epoch 56/300\n",
      "140/140 [==============================] - 91s 644ms/step - loss: 0.5101 - acc: 0.9821 - val_loss: 0.7331 - val_acc: 0.9325 - lr: 6.2500e-04\n",
      "Epoch 57/300\n",
      "140/140 [==============================] - 83s 591ms/step - loss: 0.5098 - acc: 0.9807 - val_loss: 0.7338 - val_acc: 0.9317 - lr: 6.2500e-04\n",
      "Epoch 58/300\n",
      "140/140 [==============================] - 88s 625ms/step - loss: 0.5070 - acc: 0.9812 - val_loss: 0.7193 - val_acc: 0.9358 - lr: 6.2500e-04\n",
      "Epoch 59/300\n",
      "140/140 [==============================] - 92s 652ms/step - loss: 0.5013 - acc: 0.9812 - val_loss: 0.7451 - val_acc: 0.9325 - lr: 6.2500e-04\n",
      "Epoch 60/300\n",
      "140/140 [==============================] - 89s 630ms/step - loss: 0.5041 - acc: 0.9829 - val_loss: 0.7074 - val_acc: 0.9358 - lr: 6.2500e-04\n",
      "Epoch 61/300\n",
      "140/140 [==============================] - 109s 779ms/step - loss: 0.4973 - acc: 0.9807 - val_loss: 0.7113 - val_acc: 0.9333 - lr: 6.2500e-04\n",
      "Epoch 62/300\n",
      "140/140 [==============================] - 98s 694ms/step - loss: 0.4958 - acc: 0.9833 - val_loss: 0.7293 - val_acc: 0.9367 - lr: 6.2500e-04\n",
      "Epoch 63/300\n",
      "140/140 [==============================] - 106s 756ms/step - loss: 0.4930 - acc: 0.9826 - val_loss: 0.7161 - val_acc: 0.9383 - lr: 6.2500e-04\n",
      "Epoch 64/300\n",
      "140/140 [==============================] - 97s 693ms/step - loss: 0.4897 - acc: 0.9843 - val_loss: 0.7198 - val_acc: 0.9383 - lr: 6.2500e-04\n",
      "Epoch 65/300\n",
      "140/140 [==============================] - 92s 657ms/step - loss: 0.4989 - acc: 0.9826 - val_loss: 0.7172 - val_acc: 0.9342 - lr: 6.2500e-04\n",
      "Epoch 66/300\n",
      "140/140 [==============================] - 93s 659ms/step - loss: 0.4939 - acc: 0.9812 - val_loss: 0.7205 - val_acc: 0.9383 - lr: 6.2500e-04\n",
      "Epoch 67/300\n",
      "140/140 [==============================] - 91s 651ms/step - loss: 0.4837 - acc: 0.9855 - val_loss: 0.7361 - val_acc: 0.9317 - lr: 3.1250e-04\n",
      "Epoch 68/300\n",
      "140/140 [==============================] - 91s 651ms/step - loss: 0.4758 - acc: 0.9852 - val_loss: 0.7348 - val_acc: 0.9333 - lr: 3.1250e-04\n",
      "Epoch 69/300\n",
      "140/140 [==============================] - 98s 695ms/step - loss: 0.4819 - acc: 0.9836 - val_loss: 0.7242 - val_acc: 0.9358 - lr: 3.1250e-04\n",
      "Epoch 70/300\n",
      "140/140 [==============================] - 94s 666ms/step - loss: 0.4867 - acc: 0.9793 - val_loss: 0.7074 - val_acc: 0.9375 - lr: 3.1250e-04\n",
      "Epoch 71/300\n",
      "140/140 [==============================] - 93s 661ms/step - loss: 0.4814 - acc: 0.9829 - val_loss: 0.7251 - val_acc: 0.9342 - lr: 1.5625e-04\n",
      "Epoch 72/300\n",
      "140/140 [==============================] - 91s 649ms/step - loss: 0.4765 - acc: 0.9840 - val_loss: 0.7253 - val_acc: 0.9333 - lr: 1.5625e-04\n",
      "Epoch 73/300\n",
      "140/140 [==============================] - 93s 660ms/step - loss: 0.4749 - acc: 0.9845 - val_loss: 0.7261 - val_acc: 0.9325 - lr: 7.8125e-05\n",
      "Epoch 74/300\n",
      "140/140 [==============================] - 92s 657ms/step - loss: 0.4787 - acc: 0.9829 - val_loss: 0.7179 - val_acc: 0.9342 - lr: 7.8125e-05\n",
      "Epoch 75/300\n",
      "140/140 [==============================] - 89s 631ms/step - loss: 0.4751 - acc: 0.9836 - val_loss: 0.7135 - val_acc: 0.9350 - lr: 7.8125e-05\n",
      "Epoch 76/300\n",
      "140/140 [==============================] - 88s 628ms/step - loss: 0.4681 - acc: 0.9857 - val_loss: 0.7135 - val_acc: 0.9350 - lr: 3.9062e-05\n",
      "Epoch 77/300\n",
      "140/140 [==============================] - 91s 648ms/step - loss: 0.4674 - acc: 0.9874 - val_loss: 0.7167 - val_acc: 0.9350 - lr: 3.9062e-05\n",
      "Epoch 78/300\n",
      "140/140 [==============================] - 90s 643ms/step - loss: 0.4707 - acc: 0.9862 - val_loss: 0.7166 - val_acc: 0.9350 - lr: 3.9062e-05\n",
      "Epoch 79/300\n",
      "140/140 [==============================] - 91s 648ms/step - loss: 0.4751 - acc: 0.9831 - val_loss: 0.7187 - val_acc: 0.9342 - lr: 3.9062e-05\n",
      "Epoch 80/300\n",
      "140/140 [==============================] - 92s 656ms/step - loss: 0.4787 - acc: 0.9819 - val_loss: 0.7197 - val_acc: 0.9342 - lr: 1.9531e-05\n",
      "Epoch 81/300\n",
      "140/140 [==============================] - 90s 643ms/step - loss: 0.4787 - acc: 0.9838 - val_loss: 0.7178 - val_acc: 0.9342 - lr: 1.9531e-05\n",
      "Epoch 82/300\n",
      "140/140 [==============================] - 89s 634ms/step - loss: 0.4734 - acc: 0.9829 - val_loss: 0.7179 - val_acc: 0.9342 - lr: 9.7656e-06\n"
     ]
    }
   ],
   "source": [
    "from tensorflow import optimizers\n",
    "\n",
    "model.compile(optimizer=optimizers.SGD(lr=1e-2),\n",
    "                loss='categorical_crossentropy',\n",
    "                metrics=['acc'])\n",
    "\n",
    "history = model.fit_generator(\n",
    "                    train_generator,\n",
    "                    steps_per_epoch=4200/batchsize,\n",
    "                    epochs=300,\n",
    "                    validation_data=validation_generator,\n",
    "                    validation_steps=1200/batchsize,\n",
    "                    callbacks = callbacks_list)\n"
   ]
  },
  {
   "cell_type": "code",
   "execution_count": 75,
   "id": "4f5ba21b",
   "metadata": {},
   "outputs": [
    {
     "data": {
      "image/png": "[encoded data removed]",
      "text/plain": [
       "<Figure size 432x288 with 1 Axes>"
      ]
     },
     "metadata": {
      "needs_background": "light"
     },
     "output_type": "display_data"
    },
    {
     "data": {
      "image/png": "[encoded data removed]",
      "text/plain": [
       "<Figure size 432x288 with 1 Axes>"
      ]
     },
     "metadata": {
      "needs_background": "light"
     },
     "output_type": "display_data"
    }
   ],
   "source": [
    "import matplotlib.pyplot as plt\n",
    "\n",
    "acc = history.history['acc']\n",
    "val_acc = history.history['val_acc']\n",
    "loss = history.history['loss']\n",
    "val_loss = history.history['val_loss']\n",
    "\n",
    "epochs = range(1, len(acc) + 1)\n",
    "\n",
    "plt.plot(epochs, acc, 'bo', label='Training acc')\n",
    "plt.plot(epochs, val_acc, 'b', label='Validation acc')\n",
    "plt.title('Training and validation accuracy')\n",
    "plt.legend()\n",
    "\n",
    "plt.figure()\n",
    "\n",
    "plt.plot(epochs, loss, 'bo', label='Training loss')\n",
    "plt.plot(epochs, val_loss, 'b', label='Validation loss')\n",
    "plt.title('Training and validation loss')\n",
    "plt.legend()\n",
    "\n",
    "plt.show()"
   ]
  },
  {
   "cell_type": "code",
   "execution_count": 76,
   "id": "856a69ef",
   "metadata": {},
   "outputs": [],
   "source": [
    "model.save('food_recognize_model13.h5')"
   ]
  },
  {
   "cell_type": "code",
   "execution_count": 77,
   "id": "95ddef39",
   "metadata": {},
   "outputs": [
    {
     "name": "stdout",
     "output_type": "stream",
     "text": [
      "Found 600 images belonging to 6 classes.\n"
     ]
    }
   ],
   "source": [
    "\n",
    "\n",
    "test_datagen = ImageDataGenerator(rescale = 1./255,\n",
    "                                 #以下4行做图像标准化\n",
    "                                 featurewise_center=True, \n",
    "                                 featurewise_std_normalization=True,\n",
    "                                 samplewise_center=True, \n",
    "                                 samplewise_std_normalization=True)\n",
    "test_datagen.fit(X_test)\n",
    "\n",
    "\n",
    "test_generator = test_datagen.flow_from_directory(\n",
    "                    test_dir,\n",
    "                    target_size = (320,200),\n",
    "                    batch_size =batchsize\n",
    "                    )"
   ]
  },
  {
   "cell_type": "code",
   "execution_count": 78,
   "id": "f97d80bc",
   "metadata": {},
   "outputs": [
    {
     "name": "stderr",
     "output_type": "stream",
     "text": [
      "C:\\Users\\Nickelth\\AppData\\Local\\Temp\\ipykernel_26572\\2205837447.py:1: UserWarning: `Model.evaluate_generator` is deprecated and will be removed in a future version. Please use `Model.evaluate`, which supports generators.\n",
      "  model.evaluate_generator(test_generator)\n"
     ]
    },
    {
     "data": {
      "text/plain": [
       "[0.7108152508735657, 0.9333333373069763]"
      ]
     },
     "execution_count": 78,
     "metadata": {},
     "output_type": "execute_result"
    }
   ],
   "source": [
    "model.evaluate_generator(test_generator)"
   ]
  },
  {
   "cell_type": "code",
   "execution_count": null,
   "id": "aad09f49",
   "metadata": {},
   "outputs": [],
   "source": []
  }
 ],
 "metadata": {
  "kernelspec": {
   "display_name": "Python 3 (ipykernel)",
   "language": "python",
   "name": "python3"
  },
  "language_info": {
   "codemirror_mode": {
    "name": "ipython",
    "version": 3
   },
   "file_extension": ".py",
   "mimetype": "text/x-python",
   "name": "python",
   "nbconvert_exporter": "python",
   "pygments_lexer": "ipython3",
   "version": "3.8.0"
  }
 },
 "nbformat": 4,
 "nbformat_minor": 5
}
