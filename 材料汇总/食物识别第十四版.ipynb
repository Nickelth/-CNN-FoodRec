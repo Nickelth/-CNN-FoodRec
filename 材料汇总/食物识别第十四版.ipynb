{
 "cells": [
  {
   "cell_type": "code",
   "execution_count": 1,
   "id": "05a3ca10",
   "metadata": {},
   "outputs": [],
   "source": [
    "import cv2"
   ]
  },
  {
   "cell_type": "code",
   "execution_count": 2,
   "id": "f9bc9cd6",
   "metadata": {},
   "outputs": [],
   "source": [
    "#记得指定这是第几版模型\n",
    "model_version = '14'"
   ]
  },
  {
   "cell_type": "code",
   "execution_count": 3,
   "id": "ac81fb74",
   "metadata": {},
   "outputs": [],
   "source": [
    "#读取图片部分代码来自网络\n",
    "def read_picture(path,n_C):\n",
    "    import os\n",
    "    from PIL import Image\n",
    "    import numpy as np\n",
    "    import matplotlib.pyplot as plt\n",
    "    #function:读取path路径下的图片，并转为形状为[m,n_H,n_W,n_C]的数组\n",
    "    #path:str,图片所在路径\n",
    "    #n_C:int,图像维数，黑白图像输入1，rgb图像输入3\n",
    "    #datas：返回维度为（m，n_H,n_W,n_C）的array（数组）矩阵\n",
    "    datas=[]\n",
    "    x_dirs=os.listdir(path)\n",
    "    for x_file in x_dirs:\n",
    "        fpath=os.path.join(path,x_file)\n",
    "        _x=Image.open(fpath)\n",
    "        n_W=_x.size[1]\n",
    "        n_H=_x.size[0]\n",
    "        datas.append(np.array(_x))\n",
    "        _x.close()  \n",
    "    datas=np.array(datas)\n",
    "    \n",
    "    m=datas.shape[0]\n",
    "    datas=datas.reshape((m,n_H,n_W,n_C))\n",
    "    print(datas.shape)\n",
    "    \n",
    "    return datas\n"
   ]
  },
  {
   "cell_type": "code",
   "execution_count": 4,
   "id": "bfcd3476",
   "metadata": {},
   "outputs": [],
   "source": [
    "from tensorflow.keras.preprocessing.image import ImageDataGenerator\n",
    "import os\n",
    "\n",
    "\n",
    "base_dir = 'D:\\\\food_dataset\\\\food_dataset'\n",
    "train_dir = os.path.join(base_dir, 'train') \n",
    "validation_dir = os.path.join(base_dir, 'validation') \n",
    "test_dir = os.path.join(base_dir, 'test')"
   ]
  },
  {
   "cell_type": "code",
   "execution_count": 5,
   "id": "6df5a79a",
   "metadata": {},
   "outputs": [],
   "source": [
    "imgsize = [320,200]"
   ]
  },
  {
   "cell_type": "code",
   "execution_count": 6,
   "id": "bd3ca142",
   "metadata": {},
   "outputs": [],
   "source": [
    "def getDataset(path):\n",
    "    dset = np.empty([0,imgsize[0],imgsize[1],3],dtype = 'float32')\n",
    "    dset = np.asarray(dset)\n",
    "    foodlist = ['donuts','egg_tart','hamburger','ice_cream','pizza','steak']\n",
    "    for i in range(6):\n",
    "        tmpdir = os.path.join(path,foodlist[i])\n",
    "        dset = np.concatenate((dset,read_picture(tmpdir,3)),axis = 0)\n",
    "    \n",
    "    return dset"
   ]
  },
  {
   "cell_type": "code",
   "execution_count": 7,
   "id": "e816f8be",
   "metadata": {},
   "outputs": [
    {
     "name": "stdout",
     "output_type": "stream",
     "text": [
      "(922, 320, 200, 3)\n",
      "(938, 320, 200, 3)\n",
      "(936, 320, 200, 3)\n",
      "(928, 320, 200, 3)\n",
      "(949, 320, 200, 3)\n",
      "(977, 320, 200, 3)\n"
     ]
    }
   ],
   "source": [
    "import numpy as np\n",
    "X_train = getDataset(train_dir)"
   ]
  },
  {
   "cell_type": "code",
   "execution_count": 8,
   "id": "7cf97914",
   "metadata": {},
   "outputs": [],
   "source": [
    "X_train = np.asarray(X_train)"
   ]
  },
  {
   "cell_type": "code",
   "execution_count": 9,
   "id": "d5ea81d4",
   "metadata": {},
   "outputs": [
    {
     "name": "stdout",
     "output_type": "stream",
     "text": [
      "(5650, 320, 200, 3)\n",
      "5650\n"
     ]
    }
   ],
   "source": [
    "\n",
    "trainsize = X_train.shape[0]\n",
    "print(X_train.shape)\n",
    "print(trainsize)"
   ]
  },
  {
   "cell_type": "code",
   "execution_count": 10,
   "id": "16e5f1d4",
   "metadata": {},
   "outputs": [
    {
     "name": "stdout",
     "output_type": "stream",
     "text": [
      "(135, 320, 200, 3)\n",
      "(192, 320, 200, 3)\n",
      "(167, 320, 200, 3)\n",
      "(170, 320, 200, 3)\n",
      "(191, 320, 200, 3)\n",
      "(182, 320, 200, 3)\n"
     ]
    }
   ],
   "source": [
    "X_validation = getDataset(validation_dir)"
   ]
  },
  {
   "cell_type": "code",
   "execution_count": 11,
   "id": "5c0323eb",
   "metadata": {},
   "outputs": [
    {
     "name": "stdout",
     "output_type": "stream",
     "text": [
      "(1037, 320, 200, 3)\n",
      "1037\n"
     ]
    }
   ],
   "source": [
    "valsize = X_validation.shape[0]\n",
    "print(X_validation.shape)\n",
    "print(valsize)"
   ]
  },
  {
   "cell_type": "code",
   "execution_count": 12,
   "id": "11889572",
   "metadata": {},
   "outputs": [
    {
     "name": "stdout",
     "output_type": "stream",
     "text": [
      "(100, 320, 200, 3)\n",
      "(100, 320, 200, 3)\n",
      "(100, 320, 200, 3)\n",
      "(100, 320, 200, 3)\n",
      "(100, 320, 200, 3)\n",
      "(100, 320, 200, 3)\n"
     ]
    }
   ],
   "source": [
    "X_test = getDataset(test_dir)"
   ]
  },
  {
   "cell_type": "code",
   "execution_count": 13,
   "id": "7ef9df46",
   "metadata": {},
   "outputs": [
    {
     "data": {
      "text/plain": [
       "(600, 320, 200, 3)"
      ]
     },
     "execution_count": 13,
     "metadata": {},
     "output_type": "execute_result"
    }
   ],
   "source": [
    "X_test.shape"
   ]
  },
  {
   "cell_type": "code",
   "execution_count": 14,
   "id": "a1d867f9",
   "metadata": {},
   "outputs": [],
   "source": [
    "train_datagen = ImageDataGenerator(\n",
    "                    rescale = 1./255,\n",
    "                    rotation_range=40,\n",
    "                    width_shift_range=0.2,\n",
    "                    height_shift_range=0.2,\n",
    "                    shear_range=0.2,\n",
    "                    zoom_range=0.2,\n",
    "                    horizontal_flip=True,\n",
    "                    fill_mode='nearest',\n",
    "                    #以下4行做图像标准化\n",
    "                    featurewise_center=True, \n",
    "                    featurewise_std_normalization=True,\n",
    "                    samplewise_center=True, \n",
    "                    samplewise_std_normalization=True\n",
    "                    )"
   ]
  },
  {
   "cell_type": "code",
   "execution_count": 15,
   "id": "12feb56e",
   "metadata": {},
   "outputs": [],
   "source": [
    "train_datagen.fit(X_train)"
   ]
  },
  {
   "cell_type": "code",
   "execution_count": 16,
   "id": "db2d5ad5",
   "metadata": {},
   "outputs": [],
   "source": [
    "val_datagen = ImageDataGenerator(rescale = 1./255,\n",
    "                                #以下4行做图像标准化\n",
    "                                featurewise_center=True, \n",
    "                                featurewise_std_normalization=True,\n",
    "                                samplewise_center=True, \n",
    "                                samplewise_std_normalization=True\n",
    "                                )"
   ]
  },
  {
   "cell_type": "code",
   "execution_count": 17,
   "id": "ff2b2203",
   "metadata": {},
   "outputs": [],
   "source": [
    "val_datagen.fit(X_validation)"
   ]
  },
  {
   "cell_type": "code",
   "execution_count": 18,
   "id": "a9af8338",
   "metadata": {},
   "outputs": [],
   "source": [
    "batchsize = 30"
   ]
  },
  {
   "cell_type": "code",
   "execution_count": 19,
   "id": "9353addb",
   "metadata": {},
   "outputs": [
    {
     "name": "stdout",
     "output_type": "stream",
     "text": [
      "Found 5650 images belonging to 6 classes.\n",
      "Found 1037 images belonging to 6 classes.\n"
     ]
    }
   ],
   "source": [
    "train_generator = train_datagen.flow_from_directory(\n",
    "                    train_dir,\n",
    "                    target_size = (imgsize[0],imgsize[1]),\n",
    "                    batch_size = batchsize,\n",
    "                    )\n",
    "\n",
    "validation_generator = val_datagen.flow_from_directory(\n",
    "                    validation_dir,\n",
    "                    target_size = (imgsize[0],imgsize[1]),\n",
    "                    batch_size = batchsize,\n",
    "                    )\n",
    "\n"
   ]
  },
  {
   "cell_type": "code",
   "execution_count": 20,
   "id": "f55fc75f",
   "metadata": {},
   "outputs": [
    {
     "name": "stdout",
     "output_type": "stream",
     "text": [
      "Model: \"vgg16\"\n",
      "_________________________________________________________________\n",
      " Layer (type)                Output Shape              Param #   \n",
      "=================================================================\n",
      " input_1 (InputLayer)        [(None, 320, 200, 3)]     0         \n",
      "                                                                 \n",
      " block1_conv1 (Conv2D)       (None, 320, 200, 64)      1792      \n",
      "                                                                 \n",
      " block1_conv2 (Conv2D)       (None, 320, 200, 64)      36928     \n",
      "                                                                 \n",
      " block1_pool (MaxPooling2D)  (None, 160, 100, 64)      0         \n",
      "                                                                 \n",
      " block2_conv1 (Conv2D)       (None, 160, 100, 128)     73856     \n",
      "                                                                 \n",
      " block2_conv2 (Conv2D)       (None, 160, 100, 128)     147584    \n",
      "                                                                 \n",
      " block2_pool (MaxPooling2D)  (None, 80, 50, 128)       0         \n",
      "                                                                 \n",
      " block3_conv1 (Conv2D)       (None, 80, 50, 256)       295168    \n",
      "                                                                 \n",
      " block3_conv2 (Conv2D)       (None, 80, 50, 256)       590080    \n",
      "                                                                 \n",
      " block3_conv3 (Conv2D)       (None, 80, 50, 256)       590080    \n",
      "                                                                 \n",
      " block3_pool (MaxPooling2D)  (None, 40, 25, 256)       0         \n",
      "                                                                 \n",
      " block4_conv1 (Conv2D)       (None, 40, 25, 512)       1180160   \n",
      "                                                                 \n",
      " block4_conv2 (Conv2D)       (None, 40, 25, 512)       2359808   \n",
      "                                                                 \n",
      " block4_conv3 (Conv2D)       (None, 40, 25, 512)       2359808   \n",
      "                                                                 \n",
      " block4_pool (MaxPooling2D)  (None, 20, 12, 512)       0         \n",
      "                                                                 \n",
      " block5_conv1 (Conv2D)       (None, 20, 12, 512)       2359808   \n",
      "                                                                 \n",
      " block5_conv2 (Conv2D)       (None, 20, 12, 512)       2359808   \n",
      "                                                                 \n",
      " block5_conv3 (Conv2D)       (None, 20, 12, 512)       2359808   \n",
      "                                                                 \n",
      " block5_pool (MaxPooling2D)  (None, 10, 6, 512)        0         \n",
      "                                                                 \n",
      "=================================================================\n",
      "Total params: 14,714,688\n",
      "Trainable params: 14,714,688\n",
      "Non-trainable params: 0\n",
      "_________________________________________________________________\n"
     ]
    }
   ],
   "source": [
    "from tensorflow.keras.applications.vgg16 import VGG16\n",
    "\n",
    "conv_base = VGG16(weights='imagenet',\n",
    "                    include_top=False,\n",
    "                    input_shape=(imgsize[0], imgsize[1], 3))\n",
    "\n",
    "\n",
    "\n",
    "conv_base.summary()"
   ]
  },
  {
   "cell_type": "code",
   "execution_count": 21,
   "id": "4d7bd338",
   "metadata": {},
   "outputs": [],
   "source": [
    "from tensorflow.keras import regularizers"
   ]
  },
  {
   "cell_type": "code",
   "execution_count": 22,
   "id": "5555f0d7",
   "metadata": {},
   "outputs": [],
   "source": [
    "from tensorflow.keras import models\n",
    "from tensorflow.keras import layers\n",
    "from tensorflow import optimizers\n",
    "from tensorflow.keras.layers import GlobalAveragePooling2D\n",
    "\n",
    "model = models.Sequential()\n",
    "model.add(conv_base)\n",
    "#model.add(layers.Flatten())\n",
    "\n",
    "model.add(GlobalAveragePooling2D())\n",
    "#model.add(layers.Dense(128, activation='relu',kernel_regularizer=regularizers.l1_l2(l1 = 0.001, l2 = 0.001)))\n",
    "#model.add(layers.Dropout(0.5))\n",
    "#model.add(layers.Dense(64, activation='relu',kernel_regularizer=regularizers.l1_l2(l1 = 0.001, l2 = 0.001)))\n",
    "model.add(layers.Dense(6, activation='softmax'))"
   ]
  },
  {
   "cell_type": "code",
   "execution_count": 23,
   "id": "df12c206",
   "metadata": {},
   "outputs": [
    {
     "name": "stdout",
     "output_type": "stream",
     "text": [
      "Model: \"sequential\"\n",
      "_________________________________________________________________\n",
      " Layer (type)                Output Shape              Param #   \n",
      "=================================================================\n",
      " vgg16 (Functional)          (None, 10, 6, 512)        14714688  \n",
      "                                                                 \n",
      " global_average_pooling2d (G  (None, 512)              0         \n",
      " lobalAveragePooling2D)                                          \n",
      "                                                                 \n",
      " dense (Dense)               (None, 6)                 3078      \n",
      "                                                                 \n",
      "=================================================================\n",
      "Total params: 14,717,766\n",
      "Trainable params: 14,717,766\n",
      "Non-trainable params: 0\n",
      "_________________________________________________________________\n"
     ]
    }
   ],
   "source": [
    "model.summary()"
   ]
  },
  {
   "cell_type": "code",
   "execution_count": 24,
   "id": "ca0f0c58",
   "metadata": {},
   "outputs": [
    {
     "name": "stdout",
     "output_type": "stream",
     "text": [
      "trainable weights:  28\n",
      "trainable weights:  24\n"
     ]
    }
   ],
   "source": [
    "print('trainable weights: ', len(model.trainable_weights))\n",
    "conv_base.trainable = True\n",
    "\n",
    "\n",
    "f = False \n",
    "for layer in conv_base.layers:\n",
    "    if layer.name == 'block2_conv1':\n",
    "        f = True\n",
    "    if f == True:\n",
    "        layer.trainable = True\n",
    "    else:\n",
    "        layer.trainable = False\n",
    "\n",
    "print('trainable weights: ', len(model.trainable_weights))"
   ]
  },
  {
   "cell_type": "code",
   "execution_count": 26,
   "id": "dc3ae11a",
   "metadata": {},
   "outputs": [],
   "source": [
    "import tensorflow.keras\n",
    "callbacks_list = [\n",
    "    tensorflow.keras.callbacks.ReduceLROnPlateau( # 不再改善时降低学习率\n",
    "        monitor='loss',\n",
    "        factor=0.5,\n",
    "        patience=1,\n",
    "    ),\n",
    "    tensorflow.keras.callbacks.EarlyStopping( # 不再改善时中断训练\n",
    "        monitor='loss',\n",
    "        patience=5,\n",
    "    )\n",
    "]"
   ]
  },
  {
   "cell_type": "code",
   "execution_count": 27,
   "id": "a36e9aac",
   "metadata": {},
   "outputs": [
    {
     "name": "stderr",
     "output_type": "stream",
     "text": [
      "d:\\python3.8\\lib\\site-packages\\keras\\optimizers\\optimizer_v2\\gradient_descent.py:108: UserWarning: The `lr` argument is deprecated, use `learning_rate` instead.\n",
      "  super(SGD, self).__init__(name, **kwargs)\n",
      "C:\\Users\\Nickelth\\AppData\\Local\\Temp\\ipykernel_19288\\224217198.py:7: UserWarning: `Model.fit_generator` is deprecated and will be removed in a future version. Please use `Model.fit`, which supports generators.\n",
      "  history = model.fit_generator(\n"
     ]
    },
    {
     "name": "stdout",
     "output_type": "stream",
     "text": [
      "Epoch 1/300\n",
      "188/188 [==============================] - 111s 525ms/step - loss: 1.7685 - acc: 0.2411 - val_loss: 1.6229 - val_acc: 0.3722 - lr: 0.0100\n",
      "Epoch 2/300\n",
      "188/188 [==============================] - 121s 643ms/step - loss: 1.3553 - acc: 0.4763 - val_loss: 0.8872 - val_acc: 0.7416 - lr: 0.0100\n",
      "Epoch 3/300\n",
      "188/188 [==============================] - 117s 619ms/step - loss: 0.8790 - acc: 0.7009 - val_loss: 0.4091 - val_acc: 0.8505 - lr: 0.0100\n",
      "Epoch 4/300\n",
      "188/188 [==============================] - 113s 599ms/step - loss: 0.5844 - acc: 0.8041 - val_loss: 0.2943 - val_acc: 0.9045 - lr: 0.0100\n",
      "Epoch 5/300\n",
      "188/188 [==============================] - 112s 594ms/step - loss: 0.5252 - acc: 0.8322 - val_loss: 0.3418 - val_acc: 0.8949 - lr: 0.0100\n",
      "Epoch 6/300\n",
      "188/188 [==============================] - 116s 611ms/step - loss: 0.5004 - acc: 0.8303 - val_loss: 0.2964 - val_acc: 0.8987 - lr: 0.0100\n",
      "Epoch 7/300\n",
      "188/188 [==============================] - 126s 667ms/step - loss: 0.3708 - acc: 0.8719 - val_loss: 0.4230 - val_acc: 0.8660 - lr: 0.0100\n",
      "Epoch 8/300\n",
      "188/188 [==============================] - 121s 642ms/step - loss: 0.3734 - acc: 0.8740 - val_loss: 0.2335 - val_acc: 0.9238 - lr: 0.0100\n",
      "Epoch 9/300\n",
      "188/188 [==============================] - 118s 626ms/step - loss: 0.2534 - acc: 0.9133 - val_loss: 0.1617 - val_acc: 0.9537 - lr: 0.0050\n",
      "Epoch 10/300\n",
      "188/188 [==============================] - 116s 616ms/step - loss: 0.1944 - acc: 0.9327 - val_loss: 0.1917 - val_acc: 0.9383 - lr: 0.0050\n",
      "Epoch 11/300\n",
      "188/188 [==============================] - 113s 596ms/step - loss: 0.1806 - acc: 0.9381 - val_loss: 0.2125 - val_acc: 0.9344 - lr: 0.0050\n",
      "Epoch 12/300\n",
      "188/188 [==============================] - 113s 598ms/step - loss: 0.1701 - acc: 0.9434 - val_loss: 0.1724 - val_acc: 0.9441 - lr: 0.0050\n",
      "Epoch 13/300\n",
      "188/188 [==============================] - 116s 615ms/step - loss: 0.1698 - acc: 0.9412 - val_loss: 0.1981 - val_acc: 0.9315 - lr: 0.0050\n",
      "Epoch 14/300\n",
      "188/188 [==============================] - 114s 604ms/step - loss: 0.1598 - acc: 0.9432 - val_loss: 0.1807 - val_acc: 0.9460 - lr: 0.0050\n",
      "Epoch 15/300\n",
      "188/188 [==============================] - 112s 596ms/step - loss: 0.1399 - acc: 0.9531 - val_loss: 0.1570 - val_acc: 0.9499 - lr: 0.0050\n",
      "Epoch 16/300\n",
      "188/188 [==============================] - 113s 596ms/step - loss: 0.1380 - acc: 0.9535 - val_loss: 0.1935 - val_acc: 0.9402 - lr: 0.0050\n",
      "Epoch 17/300\n",
      "188/188 [==============================] - 116s 614ms/step - loss: 0.1315 - acc: 0.9566 - val_loss: 0.1924 - val_acc: 0.9392 - lr: 0.0050\n",
      "Epoch 18/300\n",
      "188/188 [==============================] - 118s 623ms/step - loss: 0.1147 - acc: 0.9589 - val_loss: 0.1630 - val_acc: 0.9450 - lr: 0.0050\n",
      "Epoch 19/300\n",
      "188/188 [==============================] - 112s 593ms/step - loss: 0.1347 - acc: 0.9570 - val_loss: 0.2502 - val_acc: 0.9238 - lr: 0.0050\n",
      "Epoch 20/300\n",
      "188/188 [==============================] - 114s 603ms/step - loss: 0.0843 - acc: 0.9717 - val_loss: 0.2143 - val_acc: 0.9450 - lr: 0.0025\n",
      "Epoch 21/300\n",
      "188/188 [==============================] - 111s 591ms/step - loss: 0.0742 - acc: 0.9759 - val_loss: 0.2053 - val_acc: 0.9421 - lr: 0.0025\n",
      "Epoch 22/300\n",
      "188/188 [==============================] - 113s 598ms/step - loss: 0.0738 - acc: 0.9749 - val_loss: 0.1855 - val_acc: 0.9508 - lr: 0.0025\n",
      "Epoch 23/300\n",
      "188/188 [==============================] - 114s 604ms/step - loss: 0.0668 - acc: 0.9789 - val_loss: 0.2058 - val_acc: 0.9470 - lr: 0.0025\n",
      "Epoch 24/300\n",
      "188/188 [==============================] - 109s 579ms/step - loss: 0.0608 - acc: 0.9788 - val_loss: 0.1932 - val_acc: 0.9518 - lr: 0.0025\n",
      "Epoch 25/300\n",
      "188/188 [==============================] - 114s 605ms/step - loss: 0.0619 - acc: 0.9805 - val_loss: 0.2196 - val_acc: 0.9489 - lr: 0.0025\n",
      "Epoch 26/300\n",
      "188/188 [==============================] - 115s 608ms/step - loss: 0.0477 - acc: 0.9851 - val_loss: 0.2014 - val_acc: 0.9566 - lr: 0.0012\n",
      "Epoch 27/300\n",
      "188/188 [==============================] - 116s 614ms/step - loss: 0.0535 - acc: 0.9839 - val_loss: 0.2135 - val_acc: 0.9479 - lr: 0.0012\n",
      "Epoch 28/300\n",
      "188/188 [==============================] - 116s 612ms/step - loss: 0.0466 - acc: 0.9855 - val_loss: 0.1950 - val_acc: 0.9556 - lr: 6.2500e-04\n",
      "Epoch 29/300\n",
      "188/188 [==============================] - 113s 596ms/step - loss: 0.0428 - acc: 0.9851 - val_loss: 0.2190 - val_acc: 0.9556 - lr: 6.2500e-04\n",
      "Epoch 30/300\n",
      "188/188 [==============================] - 114s 602ms/step - loss: 0.0379 - acc: 0.9883 - val_loss: 0.2200 - val_acc: 0.9537 - lr: 6.2500e-04\n",
      "Epoch 31/300\n",
      "188/188 [==============================] - 116s 613ms/step - loss: 0.0368 - acc: 0.9876 - val_loss: 0.2262 - val_acc: 0.9527 - lr: 6.2500e-04\n",
      "Epoch 32/300\n",
      "188/188 [==============================] - 118s 622ms/step - loss: 0.0389 - acc: 0.9888 - val_loss: 0.2157 - val_acc: 0.9518 - lr: 6.2500e-04\n",
      "Epoch 33/300\n",
      "188/188 [==============================] - 117s 622ms/step - loss: 0.0406 - acc: 0.9876 - val_loss: 0.2141 - val_acc: 0.9556 - lr: 3.1250e-04\n",
      "Epoch 34/300\n",
      "188/188 [==============================] - 116s 617ms/step - loss: 0.0307 - acc: 0.9908 - val_loss: 0.2166 - val_acc: 0.9547 - lr: 1.5625e-04\n",
      "Epoch 35/300\n",
      "188/188 [==============================] - 113s 599ms/step - loss: 0.0373 - acc: 0.9873 - val_loss: 0.2209 - val_acc: 0.9547 - lr: 1.5625e-04\n",
      "Epoch 36/300\n",
      "188/188 [==============================] - 114s 602ms/step - loss: 0.0392 - acc: 0.9874 - val_loss: 0.2201 - val_acc: 0.9556 - lr: 7.8125e-05\n",
      "Epoch 37/300\n",
      "188/188 [==============================] - 114s 602ms/step - loss: 0.0331 - acc: 0.9888 - val_loss: 0.2226 - val_acc: 0.9547 - lr: 3.9062e-05\n",
      "Epoch 38/300\n",
      "188/188 [==============================] - 117s 621ms/step - loss: 0.0376 - acc: 0.9883 - val_loss: 0.2216 - val_acc: 0.9556 - lr: 1.9531e-05\n",
      "Epoch 39/300\n",
      "188/188 [==============================] - 117s 621ms/step - loss: 0.0322 - acc: 0.9897 - val_loss: 0.2220 - val_acc: 0.9556 - lr: 9.7656e-06\n"
     ]
    }
   ],
   "source": [
    "from tensorflow import optimizers\n",
    "\n",
    "model.compile(optimizer=optimizers.SGD(lr=1e-2),\n",
    "                loss='categorical_crossentropy',\n",
    "                metrics=['acc'])\n",
    "\n",
    "history = model.fit_generator(\n",
    "                    train_generator,\n",
    "                    steps_per_epoch=trainsize/batchsize,\n",
    "                    epochs=300,\n",
    "                    validation_data=validation_generator,\n",
    "                    validation_steps=valsize/batchsize,\n",
    "                    callbacks = callbacks_list)\n"
   ]
  },
  {
   "cell_type": "code",
   "execution_count": 28,
   "id": "4f5ba21b",
   "metadata": {},
   "outputs": [
    {
     "data": {
      "image/png": "[encoded data removed]",
      "text/plain": [
       "<Figure size 432x288 with 1 Axes>"
      ]
     },
     "metadata": {
      "needs_background": "light"
     },
     "output_type": "display_data"
    },
    {
     "data": {
      "image/png": "[encoded data removed]",
      "text/plain": [
       "<Figure size 432x288 with 1 Axes>"
      ]
     },
     "metadata": {
      "needs_background": "light"
     },
     "output_type": "display_data"
    }
   ],
   "source": [
    "import matplotlib.pyplot as plt\n",
    "\n",
    "acc = history.history['acc']\n",
    "val_acc = history.history['val_acc']\n",
    "loss = history.history['loss']\n",
    "val_loss = history.history['val_loss']\n",
    "\n",
    "epochs = range(1, len(acc) + 1)\n",
    "\n",
    "plt.plot(epochs, acc, 'bo', label='Training acc')\n",
    "plt.plot(epochs, val_acc, 'b', label='Validation acc')\n",
    "plt.title('Training and validation accuracy')\n",
    "plt.legend()\n",
    "\n",
    "plt.figure()\n",
    "\n",
    "plt.plot(epochs, loss, 'bo', label='Training loss')\n",
    "plt.plot(epochs, val_loss, 'b', label='Validation loss')\n",
    "plt.title('Training and validation loss')\n",
    "plt.legend()\n",
    "\n",
    "plt.show()"
   ]
  },
  {
   "cell_type": "code",
   "execution_count": 29,
   "id": "5336a21d",
   "metadata": {},
   "outputs": [],
   "source": [
    "s = 'food_recognize_model' + model_version + '.h5'"
   ]
  },
  {
   "cell_type": "code",
   "execution_count": 30,
   "id": "9e034a64",
   "metadata": {},
   "outputs": [
    {
     "name": "stdout",
     "output_type": "stream",
     "text": [
      "food_recognize_model14.h5\n"
     ]
    }
   ],
   "source": [
    "print(s)"
   ]
  },
  {
   "cell_type": "code",
   "execution_count": 31,
   "id": "856a69ef",
   "metadata": {},
   "outputs": [],
   "source": [
    "model.save(s)"
   ]
  },
  {
   "cell_type": "code",
   "execution_count": 32,
   "id": "95ddef39",
   "metadata": {},
   "outputs": [
    {
     "name": "stdout",
     "output_type": "stream",
     "text": [
      "Found 600 images belonging to 6 classes.\n"
     ]
    }
   ],
   "source": [
    "\n",
    "\n",
    "test_datagen = ImageDataGenerator(rescale = 1./255,\n",
    "                                 #以下4行做图像标准化\n",
    "                                 featurewise_center=True, \n",
    "                                 featurewise_std_normalization=True,\n",
    "                                 samplewise_center=True, \n",
    "                                 samplewise_std_normalization=True)\n",
    "test_datagen.fit(X_test)\n",
    "\n",
    "\n",
    "test_generator = test_datagen.flow_from_directory(\n",
    "                    test_dir,\n",
    "                    target_size = (imgsize[0],imgsize[1]),\n",
    "                    batch_size =batchsize\n",
    "                    )"
   ]
  },
  {
   "cell_type": "code",
   "execution_count": 33,
   "id": "f97d80bc",
   "metadata": {},
   "outputs": [
    {
     "name": "stderr",
     "output_type": "stream",
     "text": [
      "C:\\Users\\Nickelth\\AppData\\Local\\Temp\\ipykernel_19288\\2205837447.py:1: UserWarning: `Model.evaluate_generator` is deprecated and will be removed in a future version. Please use `Model.evaluate`, which supports generators.\n",
      "  model.evaluate_generator(test_generator)\n"
     ]
    },
    {
     "data": {
      "text/plain": [
       "[0.3476089835166931, 0.9166666865348816]"
      ]
     },
     "execution_count": 33,
     "metadata": {},
     "output_type": "execute_result"
    }
   ],
   "source": [
    "model.evaluate_generator(test_generator)"
   ]
  },
  {
   "cell_type": "code",
   "execution_count": 34,
   "id": "aad09f49",
   "metadata": {},
   "outputs": [
    {
     "name": "stdout",
     "output_type": "stream",
     "text": [
      "Found 600 images belonging to 6 classes.\n"
     ]
    }
   ],
   "source": [
    "test_datagen = ImageDataGenerator(rescale = 1./255)\n",
    "\n",
    "test_generator = test_datagen.flow_from_directory(\n",
    "                    test_dir,\n",
    "                    target_size = (imgsize[0],imgsize[1]),\n",
    "                    batch_size =batchsize\n",
    "                    )"
   ]
  },
  {
   "cell_type": "code",
   "execution_count": 35,
   "id": "2f4ecf71",
   "metadata": {},
   "outputs": [
    {
     "name": "stderr",
     "output_type": "stream",
     "text": [
      "C:\\Users\\Nickelth\\AppData\\Local\\Temp\\ipykernel_19288\\2205837447.py:1: UserWarning: `Model.evaluate_generator` is deprecated and will be removed in a future version. Please use `Model.evaluate`, which supports generators.\n",
      "  model.evaluate_generator(test_generator)\n"
     ]
    },
    {
     "data": {
      "text/plain": [
       "[2.8548147678375244, 0.18833333253860474]"
      ]
     },
     "execution_count": 35,
     "metadata": {},
     "output_type": "execute_result"
    }
   ],
   "source": [
    "model.evaluate_generator(test_generator)"
   ]
  },
  {
   "cell_type": "code",
   "execution_count": null,
   "id": "f624ed83",
   "metadata": {},
   "outputs": [],
   "source": []
  }
 ],
 "metadata": {
  "kernelspec": {
   "display_name": "Python 3 (ipykernel)",
   "language": "python",
   "name": "python3"
  },
  "language_info": {
   "codemirror_mode": {
    "name": "ipython",
    "version": 3
   },
   "file_extension": ".py",
   "mimetype": "text/x-python",
   "name": "python",
   "nbconvert_exporter": "python",
   "pygments_lexer": "ipython3",
   "version": "3.8.0"
  }
 },
 "nbformat": 4,
 "nbformat_minor": 5
}
