{
 "cells": [
  {
   "cell_type": "code",
   "execution_count": 1,
   "id": "05a3ca10",
   "metadata": {},
   "outputs": [],
   "source": [
    "import cv2"
   ]
  },
  {
   "cell_type": "code",
   "execution_count": 2,
   "id": "9353addb",
   "metadata": {},
   "outputs": [
    {
     "name": "stdout",
     "output_type": "stream",
     "text": [
      "Found 4200 images belonging to 6 classes.\n",
      "Found 1200 images belonging to 6 classes.\n"
     ]
    }
   ],
   "source": [
    "from keras.preprocessing.image import ImageDataGenerator\n",
    "import os\n",
    "\n",
    "\n",
    "base_dir = 'D:\\\\food_dataset\\\\food_dataset'\n",
    "train_dir = os.path.join(base_dir, 'train') \n",
    "validation_dir = os.path.join(base_dir, 'validation') \n",
    "test_dir = os.path.join(base_dir, 'test')\n",
    "\n",
    "\n",
    "train_datagen = ImageDataGenerator(\n",
    "                    rescale = 1./255,\n",
    "                    rotation_range=40,\n",
    "                    width_shift_range=0.2,\n",
    "                    height_shift_range=0.2,\n",
    "                    shear_range=0.2,\n",
    "                    zoom_range=0.2,\n",
    "                    horizontal_flip=True,\n",
    "                    fill_mode='nearest',\n",
    "                    )\n",
    "batchsize = 30\n",
    "\n",
    "val_datagen = ImageDataGenerator(rescale = 1./255)\n",
    "\n",
    "train_generator = train_datagen.flow_from_directory(\n",
    "                    train_dir,\n",
    "                    target_size = (320,200),\n",
    "                    batch_size = batchsize,\n",
    "                    )\n",
    "\n",
    "validation_generator = val_datagen.flow_from_directory(\n",
    "                    validation_dir,\n",
    "                    target_size = (320,200),\n",
    "                    batch_size = batchsize,\n",
    "                    )\n",
    "\n"
   ]
  },
  {
   "cell_type": "code",
   "execution_count": 3,
   "id": "f55fc75f",
   "metadata": {},
   "outputs": [
    {
     "name": "stdout",
     "output_type": "stream",
     "text": [
      "Model: \"vgg16\"\n",
      "_________________________________________________________________\n",
      " Layer (type)                Output Shape              Param #   \n",
      "=================================================================\n",
      " input_1 (InputLayer)        [(None, 320, 200, 3)]     0         \n",
      "                                                                 \n",
      " block1_conv1 (Conv2D)       (None, 320, 200, 64)      1792      \n",
      "                                                                 \n",
      " block1_conv2 (Conv2D)       (None, 320, 200, 64)      36928     \n",
      "                                                                 \n",
      " block1_pool (MaxPooling2D)  (None, 160, 100, 64)      0         \n",
      "                                                                 \n",
      " block2_conv1 (Conv2D)       (None, 160, 100, 128)     73856     \n",
      "                                                                 \n",
      " block2_conv2 (Conv2D)       (None, 160, 100, 128)     147584    \n",
      "                                                                 \n",
      " block2_pool (MaxPooling2D)  (None, 80, 50, 128)       0         \n",
      "                                                                 \n",
      " block3_conv1 (Conv2D)       (None, 80, 50, 256)       295168    \n",
      "                                                                 \n",
      " block3_conv2 (Conv2D)       (None, 80, 50, 256)       590080    \n",
      "                                                                 \n",
      " block3_conv3 (Conv2D)       (None, 80, 50, 256)       590080    \n",
      "                                                                 \n",
      " block3_pool (MaxPooling2D)  (None, 40, 25, 256)       0         \n",
      "                                                                 \n",
      " block4_conv1 (Conv2D)       (None, 40, 25, 512)       1180160   \n",
      "                                                                 \n",
      " block4_conv2 (Conv2D)       (None, 40, 25, 512)       2359808   \n",
      "                                                                 \n",
      " block4_conv3 (Conv2D)       (None, 40, 25, 512)       2359808   \n",
      "                                                                 \n",
      " block4_pool (MaxPooling2D)  (None, 20, 12, 512)       0         \n",
      "                                                                 \n",
      " block5_conv1 (Conv2D)       (None, 20, 12, 512)       2359808   \n",
      "                                                                 \n",
      " block5_conv2 (Conv2D)       (None, 20, 12, 512)       2359808   \n",
      "                                                                 \n",
      " block5_conv3 (Conv2D)       (None, 20, 12, 512)       2359808   \n",
      "                                                                 \n",
      " block5_pool (MaxPooling2D)  (None, 10, 6, 512)        0         \n",
      "                                                                 \n",
      "=================================================================\n",
      "Total params: 14,714,688\n",
      "Trainable params: 14,714,688\n",
      "Non-trainable params: 0\n",
      "_________________________________________________________________\n"
     ]
    }
   ],
   "source": [
    "from keras.applications.vgg16 import VGG16\n",
    "\n",
    "conv_base = VGG16(weights='imagenet',\n",
    "                    include_top=False,\n",
    "                    input_shape=(320, 200, 3))\n",
    "\n",
    "\n",
    "\n",
    "conv_base.summary()"
   ]
  },
  {
   "cell_type": "code",
   "execution_count": 4,
   "id": "5555f0d7",
   "metadata": {},
   "outputs": [],
   "source": [
    "from keras import models\n",
    "from keras import layers\n",
    "from tensorflow import optimizers\n",
    "\n",
    "model = models.Sequential()\n",
    "model.add(conv_base)\n",
    "model.add(layers.Flatten())\n",
    "model.add(layers.Dropout(0.5))\n",
    "model.add(layers.Dense(128, activation='relu'))\n",
    "model.add(layers.Dense(64, activation='relu'))\n",
    "model.add(layers.Dense(6, activation='softmax'))"
   ]
  },
  {
   "cell_type": "code",
   "execution_count": 5,
   "id": "df12c206",
   "metadata": {},
   "outputs": [
    {
     "name": "stdout",
     "output_type": "stream",
     "text": [
      "Model: \"sequential\"\n",
      "_________________________________________________________________\n",
      " Layer (type)                Output Shape              Param #   \n",
      "=================================================================\n",
      " vgg16 (Functional)          (None, 10, 6, 512)        14714688  \n",
      "                                                                 \n",
      " flatten (Flatten)           (None, 30720)             0         \n",
      "                                                                 \n",
      " dropout (Dropout)           (None, 30720)             0         \n",
      "                                                                 \n",
      " dense (Dense)               (None, 128)               3932288   \n",
      "                                                                 \n",
      " dense_1 (Dense)             (None, 64)                8256      \n",
      "                                                                 \n",
      " dense_2 (Dense)             (None, 6)                 390       \n",
      "                                                                 \n",
      "=================================================================\n",
      "Total params: 18,655,622\n",
      "Trainable params: 18,655,622\n",
      "Non-trainable params: 0\n",
      "_________________________________________________________________\n"
     ]
    }
   ],
   "source": [
    "model.summary()"
   ]
  },
  {
   "cell_type": "code",
   "execution_count": 6,
   "id": "ca0f0c58",
   "metadata": {},
   "outputs": [
    {
     "name": "stdout",
     "output_type": "stream",
     "text": [
      "trainable weights:  32\n",
      "trainable weights:  24\n"
     ]
    }
   ],
   "source": [
    "print('trainable weights: ', len(model.trainable_weights))\n",
    "conv_base.trainable = True\n",
    "\n",
    "\n",
    "f = False \n",
    "for layer in conv_base.layers:\n",
    "    if layer.name == 'block3_conv1':\n",
    "        f = True\n",
    "    if f == True:\n",
    "        layer.trainable = True\n",
    "    else:\n",
    "        layer.trainable = False\n",
    "\n",
    "print('trainable weights: ', len(model.trainable_weights))"
   ]
  },
  {
   "cell_type": "code",
   "execution_count": 7,
   "id": "dc3ae11a",
   "metadata": {},
   "outputs": [],
   "source": [
    "import keras\n",
    "callbacks_list = [\n",
    "    keras.callbacks.ReduceLROnPlateau( # 不再改善时降低学习率\n",
    "        monitor='loss',\n",
    "        factor=0.5,\n",
    "        patience=2,\n",
    "    ),\n",
    "    keras.callbacks.EarlyStopping( # 不再改善时中断训练\n",
    "        monitor='loss',\n",
    "        patience=5,\n",
    "    )\n",
    "]"
   ]
  },
  {
   "cell_type": "code",
   "execution_count": 8,
   "id": "a36e9aac",
   "metadata": {},
   "outputs": [
    {
     "name": "stderr",
     "output_type": "stream",
     "text": [
      "d:\\python3.8\\lib\\site-packages\\keras\\optimizers\\optimizer_v2\\gradient_descent.py:108: UserWarning: The `lr` argument is deprecated, use `learning_rate` instead.\n",
      "  super(SGD, self).__init__(name, **kwargs)\n",
      "C:\\Users\\Nickelth\\AppData\\Local\\Temp\\ipykernel_14984\\3244846159.py:7: UserWarning: `Model.fit_generator` is deprecated and will be removed in a future version. Please use `Model.fit`, which supports generators.\n",
      "  history = model.fit_generator(\n"
     ]
    },
    {
     "name": "stdout",
     "output_type": "stream",
     "text": [
      "Epoch 1/300\n",
      "140/140 [==============================] - 90s 579ms/step - loss: 1.7533 - acc: 0.2455 - val_loss: 1.6887 - val_acc: 0.2708 - lr: 0.0100\n",
      "Epoch 2/300\n",
      "140/140 [==============================] - 81s 578ms/step - loss: 1.4715 - acc: 0.4000 - val_loss: 1.0979 - val_acc: 0.5550 - lr: 0.0100\n",
      "Epoch 3/300\n",
      "140/140 [==============================] - 82s 583ms/step - loss: 1.2959 - acc: 0.4988 - val_loss: 1.6153 - val_acc: 0.4875 - lr: 0.0100\n",
      "Epoch 4/300\n",
      "140/140 [==============================] - 78s 556ms/step - loss: 1.1047 - acc: 0.5852 - val_loss: 0.6899 - val_acc: 0.7583 - lr: 0.0100\n",
      "Epoch 5/300\n",
      "140/140 [==============================] - 81s 578ms/step - loss: 0.9276 - acc: 0.6712 - val_loss: 1.0289 - val_acc: 0.6683 - lr: 0.0100\n",
      "Epoch 6/300\n",
      "140/140 [==============================] - 79s 562ms/step - loss: 0.8105 - acc: 0.7176 - val_loss: 0.8463 - val_acc: 0.6808 - lr: 0.0100\n",
      "Epoch 7/300\n",
      "140/140 [==============================] - 78s 555ms/step - loss: 0.7305 - acc: 0.7436 - val_loss: 0.4605 - val_acc: 0.8458 - lr: 0.0100\n",
      "Epoch 8/300\n",
      "140/140 [==============================] - 79s 560ms/step - loss: 0.6399 - acc: 0.7760 - val_loss: 1.2634 - val_acc: 0.6708 - lr: 0.0100\n",
      "Epoch 9/300\n",
      "140/140 [==============================] - 77s 547ms/step - loss: 0.6281 - acc: 0.7814 - val_loss: 0.4573 - val_acc: 0.8475 - lr: 0.0100\n",
      "Epoch 10/300\n",
      "140/140 [==============================] - 78s 554ms/step - loss: 0.6654 - acc: 0.7629 - val_loss: 0.4960 - val_acc: 0.8267 - lr: 0.0100\n",
      "Epoch 11/300\n",
      "140/140 [==============================] - 79s 558ms/step - loss: 0.5308 - acc: 0.8140 - val_loss: 0.3613 - val_acc: 0.8775 - lr: 0.0100\n",
      "Epoch 12/300\n",
      "140/140 [==============================] - 77s 550ms/step - loss: 0.4996 - acc: 0.8250 - val_loss: 0.4311 - val_acc: 0.8483 - lr: 0.0100\n",
      "Epoch 13/300\n",
      "140/140 [==============================] - 78s 556ms/step - loss: 0.4847 - acc: 0.8298 - val_loss: 0.2982 - val_acc: 0.8992 - lr: 0.0100\n",
      "Epoch 14/300\n",
      "140/140 [==============================] - 76s 537ms/step - loss: 0.4380 - acc: 0.8488 - val_loss: 0.3145 - val_acc: 0.8992 - lr: 0.0100\n",
      "Epoch 15/300\n",
      "140/140 [==============================] - 77s 552ms/step - loss: 0.4252 - acc: 0.8593 - val_loss: 0.3346 - val_acc: 0.8892 - lr: 0.0100\n",
      "Epoch 16/300\n",
      "140/140 [==============================] - 78s 552ms/step - loss: 0.3976 - acc: 0.8605 - val_loss: 0.3524 - val_acc: 0.8908 - lr: 0.0100\n",
      "Epoch 17/300\n",
      "140/140 [==============================] - 77s 545ms/step - loss: 0.3581 - acc: 0.8795 - val_loss: 0.3962 - val_acc: 0.8692 - lr: 0.0100\n",
      "Epoch 18/300\n",
      "140/140 [==============================] - 77s 549ms/step - loss: 0.3895 - acc: 0.8645 - val_loss: 0.3658 - val_acc: 0.8667 - lr: 0.0100\n",
      "Epoch 19/300\n",
      "140/140 [==============================] - 79s 558ms/step - loss: 0.3695 - acc: 0.8724 - val_loss: 0.3483 - val_acc: 0.8967 - lr: 0.0100\n",
      "Epoch 20/300\n",
      "140/140 [==============================] - 78s 552ms/step - loss: 0.2380 - acc: 0.9221 - val_loss: 0.2979 - val_acc: 0.9067 - lr: 0.0050\n",
      "Epoch 21/300\n",
      "140/140 [==============================] - 77s 549ms/step - loss: 0.2103 - acc: 0.9286 - val_loss: 0.3001 - val_acc: 0.9075 - lr: 0.0050\n",
      "Epoch 22/300\n",
      "140/140 [==============================] - 77s 551ms/step - loss: 0.2055 - acc: 0.9276 - val_loss: 0.3204 - val_acc: 0.9075 - lr: 0.0050\n",
      "Epoch 23/300\n",
      "140/140 [==============================] - 314s 2s/step - loss: 0.2200 - acc: 0.9243 - val_loss: 0.2949 - val_acc: 0.9217 - lr: 0.0050\n",
      "Epoch 24/300\n",
      "140/140 [==============================] - 80s 566ms/step - loss: 0.2013 - acc: 0.9293 - val_loss: 0.2877 - val_acc: 0.9208 - lr: 0.0050\n",
      "Epoch 25/300\n",
      "140/140 [==============================] - 86s 611ms/step - loss: 0.1777 - acc: 0.9395 - val_loss: 0.6339 - val_acc: 0.8308 - lr: 0.0050\n",
      "Epoch 26/300\n",
      "140/140 [==============================] - 82s 586ms/step - loss: 0.2000 - acc: 0.9293 - val_loss: 0.3068 - val_acc: 0.9167 - lr: 0.0050\n",
      "Epoch 27/300\n",
      "140/140 [==============================] - 79s 560ms/step - loss: 0.1742 - acc: 0.9443 - val_loss: 0.2826 - val_acc: 0.9108 - lr: 0.0050\n",
      "Epoch 28/300\n",
      "140/140 [==============================] - 77s 549ms/step - loss: 0.1687 - acc: 0.9424 - val_loss: 0.3141 - val_acc: 0.9200 - lr: 0.0050\n",
      "Epoch 29/300\n",
      "140/140 [==============================] - 79s 560ms/step - loss: 0.1758 - acc: 0.9407 - val_loss: 0.3223 - val_acc: 0.9167 - lr: 0.0050\n",
      "Epoch 30/300\n",
      "140/140 [==============================] - 77s 549ms/step - loss: 0.1560 - acc: 0.9495 - val_loss: 0.2991 - val_acc: 0.9175 - lr: 0.0050\n",
      "Epoch 31/300\n",
      "140/140 [==============================] - 78s 554ms/step - loss: 0.1706 - acc: 0.9393 - val_loss: 0.3553 - val_acc: 0.9158 - lr: 0.0050\n",
      "Epoch 32/300\n",
      "140/140 [==============================] - 79s 564ms/step - loss: 0.1620 - acc: 0.9457 - val_loss: 0.3289 - val_acc: 0.9183 - lr: 0.0050\n",
      "Epoch 33/300\n",
      "140/140 [==============================] - 78s 555ms/step - loss: 0.1144 - acc: 0.9614 - val_loss: 0.2938 - val_acc: 0.9225 - lr: 0.0025\n",
      "Epoch 34/300\n",
      "140/140 [==============================] - 76s 544ms/step - loss: 0.1071 - acc: 0.9626 - val_loss: 0.3319 - val_acc: 0.9200 - lr: 0.0025\n",
      "Epoch 35/300\n",
      "140/140 [==============================] - 78s 556ms/step - loss: 0.0946 - acc: 0.9671 - val_loss: 0.3402 - val_acc: 0.9225 - lr: 0.0025\n",
      "Epoch 36/300\n",
      "140/140 [==============================] - 78s 551ms/step - loss: 0.1079 - acc: 0.9598 - val_loss: 0.3372 - val_acc: 0.9208 - lr: 0.0025\n",
      "Epoch 37/300\n",
      "140/140 [==============================] - 79s 561ms/step - loss: 0.0921 - acc: 0.9690 - val_loss: 0.3321 - val_acc: 0.9300 - lr: 0.0025\n",
      "Epoch 38/300\n",
      "140/140 [==============================] - 78s 556ms/step - loss: 0.0932 - acc: 0.9671 - val_loss: 0.3902 - val_acc: 0.9150 - lr: 0.0025\n",
      "Epoch 39/300\n",
      "140/140 [==============================] - 79s 558ms/step - loss: 0.0927 - acc: 0.9686 - val_loss: 0.3507 - val_acc: 0.9250 - lr: 0.0025\n",
      "Epoch 40/300\n",
      "140/140 [==============================] - 80s 566ms/step - loss: 0.0721 - acc: 0.9750 - val_loss: 0.3540 - val_acc: 0.9217 - lr: 0.0012\n",
      "Epoch 41/300\n",
      "140/140 [==============================] - 77s 544ms/step - loss: 0.0865 - acc: 0.9710 - val_loss: 0.3520 - val_acc: 0.9175 - lr: 0.0012\n",
      "Epoch 42/300\n",
      "140/140 [==============================] - 78s 558ms/step - loss: 0.0721 - acc: 0.9764 - val_loss: 0.3381 - val_acc: 0.9225 - lr: 0.0012\n",
      "Epoch 43/300\n",
      "140/140 [==============================] - 78s 554ms/step - loss: 0.0609 - acc: 0.9807 - val_loss: 0.3579 - val_acc: 0.9250 - lr: 6.2500e-04\n",
      "Epoch 44/300\n",
      "140/140 [==============================] - 78s 555ms/step - loss: 0.0710 - acc: 0.9743 - val_loss: 0.3446 - val_acc: 0.9242 - lr: 6.2500e-04\n",
      "Epoch 45/300\n",
      "140/140 [==============================] - 78s 552ms/step - loss: 0.0634 - acc: 0.9788 - val_loss: 0.3432 - val_acc: 0.9292 - lr: 6.2500e-04\n",
      "Epoch 46/300\n",
      "140/140 [==============================] - 79s 560ms/step - loss: 0.0664 - acc: 0.9781 - val_loss: 0.3372 - val_acc: 0.9300 - lr: 3.1250e-04\n",
      "Epoch 47/300\n",
      "140/140 [==============================] - 77s 547ms/step - loss: 0.0555 - acc: 0.9826 - val_loss: 0.3488 - val_acc: 0.9283 - lr: 3.1250e-04\n",
      "Epoch 48/300\n",
      "140/140 [==============================] - 78s 556ms/step - loss: 0.0641 - acc: 0.9774 - val_loss: 0.3576 - val_acc: 0.9292 - lr: 3.1250e-04\n",
      "Epoch 49/300\n",
      "140/140 [==============================] - 77s 547ms/step - loss: 0.0623 - acc: 0.9774 - val_loss: 0.3463 - val_acc: 0.9300 - lr: 3.1250e-04\n",
      "Epoch 50/300\n",
      "140/140 [==============================] - 76s 545ms/step - loss: 0.0544 - acc: 0.9836 - val_loss: 0.3508 - val_acc: 0.9283 - lr: 1.5625e-04\n",
      "Epoch 51/300\n",
      "140/140 [==============================] - 77s 549ms/step - loss: 0.0583 - acc: 0.9788 - val_loss: 0.3494 - val_acc: 0.9292 - lr: 1.5625e-04\n",
      "Epoch 52/300\n",
      "140/140 [==============================] - 76s 540ms/step - loss: 0.0586 - acc: 0.9810 - val_loss: 0.3460 - val_acc: 0.9292 - lr: 1.5625e-04\n",
      "Epoch 53/300\n",
      "140/140 [==============================] - 78s 554ms/step - loss: 0.0599 - acc: 0.9800 - val_loss: 0.3465 - val_acc: 0.9292 - lr: 7.8125e-05\n",
      "Epoch 54/300\n",
      "140/140 [==============================] - 79s 560ms/step - loss: 0.0574 - acc: 0.9810 - val_loss: 0.3494 - val_acc: 0.9292 - lr: 7.8125e-05\n",
      "Epoch 55/300\n",
      "140/140 [==============================] - 79s 559ms/step - loss: 0.0607 - acc: 0.9800 - val_loss: 0.3521 - val_acc: 0.9283 - lr: 3.9062e-05\n"
     ]
    }
   ],
   "source": [
    "from tensorflow import optimizers\n",
    "\n",
    "model.compile(optimizer=optimizers.SGD(lr=1e-2),\n",
    "                loss='categorical_crossentropy',\n",
    "                metrics=['acc'])\n",
    "\n",
    "history = model.fit_generator(\n",
    "                    train_generator,\n",
    "                    steps_per_epoch=4200/batchsize,\n",
    "                    epochs=300,\n",
    "                    validation_data=validation_generator,\n",
    "                    validation_steps=1200/batchsize,\n",
    "                    callbacks = callbacks_list)\n"
   ]
  },
  {
   "cell_type": "code",
   "execution_count": 9,
   "id": "4f5ba21b",
   "metadata": {},
   "outputs": [
    {
     "data": {
      "image/png": "[encoded data removed]",
      "text/plain": [
       "<Figure size 432x288 with 1 Axes>"
      ]
     },
     "metadata": {
      "needs_background": "light"
     },
     "output_type": "display_data"
    },
    {
     "data": {
      "image/png": "[encoded data removed]",
      "text/plain": [
       "<Figure size 432x288 with 1 Axes>"
      ]
     },
     "metadata": {
      "needs_background": "light"
     },
     "output_type": "display_data"
    }
   ],
   "source": [
    "import matplotlib.pyplot as plt\n",
    "\n",
    "acc = history.history['acc']\n",
    "val_acc = history.history['val_acc']\n",
    "loss = history.history['loss']\n",
    "val_loss = history.history['val_loss']\n",
    "\n",
    "epochs = range(1, len(acc) + 1)\n",
    "\n",
    "plt.plot(epochs, acc, 'bo', label='Training acc')\n",
    "plt.plot(epochs, val_acc, 'b', label='Validation acc')\n",
    "plt.title('Training and validation accuracy')\n",
    "plt.legend()\n",
    "\n",
    "plt.figure()\n",
    "\n",
    "plt.plot(epochs, loss, 'bo', label='Training loss')\n",
    "plt.plot(epochs, val_loss, 'b', label='Validation loss')\n",
    "plt.title('Training and validation loss')\n",
    "plt.legend()\n",
    "\n",
    "plt.show()"
   ]
  },
  {
   "cell_type": "code",
   "execution_count": 10,
   "id": "856a69ef",
   "metadata": {},
   "outputs": [],
   "source": [
    "model.save('food_recognize_model6.h5')"
   ]
  },
  {
   "cell_type": "code",
   "execution_count": 11,
   "id": "95ddef39",
   "metadata": {},
   "outputs": [
    {
     "name": "stdout",
     "output_type": "stream",
     "text": [
      "Found 600 images belonging to 6 classes.\n"
     ]
    }
   ],
   "source": [
    "\n",
    "\n",
    "test_datagen = ImageDataGenerator(rescale = 1./255)\n",
    "\n",
    "\n",
    "test_generator = test_datagen.flow_from_directory(\n",
    "                    test_dir,\n",
    "                    target_size = (320,200),\n",
    "                    batch_size =batchsize,\n",
    "                    )"
   ]
  },
  {
   "cell_type": "code",
   "execution_count": 12,
   "id": "f97d80bc",
   "metadata": {},
   "outputs": [
    {
     "name": "stderr",
     "output_type": "stream",
     "text": [
      "C:\\Users\\Nickelth\\AppData\\Local\\Temp\\ipykernel_27768\\2205837447.py:1: UserWarning: `Model.evaluate_generator` is deprecated and will be removed in a future version. Please use `Model.evaluate`, which supports generators.\n",
      "  model.evaluate_generator(test_generator)\n"
     ]
    },
    {
     "data": {
      "text/plain": [
       "[0.26840177178382874, 0.9316666722297668]"
      ]
     },
     "execution_count": 12,
     "metadata": {},
     "output_type": "execute_result"
    }
   ],
   "source": [
    "model.evaluate_generator(test_generator)"
   ]
  },
  {
   "cell_type": "code",
   "execution_count": null,
   "id": "aad09f49",
   "metadata": {},
   "outputs": [],
   "source": []
  }
 ],
 "metadata": {
  "kernelspec": {
   "display_name": "Python 3 (ipykernel)",
   "language": "python",
   "name": "python3"
  },
  "language_info": {
   "codemirror_mode": {
    "name": "ipython",
    "version": 3
   },
   "file_extension": ".py",
   "mimetype": "text/x-python",
   "name": "python",
   "nbconvert_exporter": "python",
   "pygments_lexer": "ipython3",
   "version": "3.8.0"
  }
 },
 "nbformat": 4,
 "nbformat_minor": 5
}
